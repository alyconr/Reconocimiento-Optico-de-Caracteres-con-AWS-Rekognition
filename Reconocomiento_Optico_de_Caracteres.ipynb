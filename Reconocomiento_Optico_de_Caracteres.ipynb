{
 "cells": [
  {
   "cell_type": "markdown",
   "metadata": {},
   "source": [
    "# 1. LIBRERIAS\n"
   ]
  },
  {
   "cell_type": "code",
   "execution_count": 1,
   "metadata": {},
   "outputs": [
    {
     "data": {
      "text/plain": [
       "True"
      ]
     },
     "execution_count": 1,
     "metadata": {},
     "output_type": "execute_result"
    }
   ],
   "source": [
    "from dotenv import load_dotenv\n",
    "import os\n",
    "\n",
    "# Carga las variables de entorno desde el archivo .env\n",
    "load_dotenv()"
   ]
  },
  {
   "cell_type": "code",
   "execution_count": 2,
   "metadata": {},
   "outputs": [],
   "source": [
    "access_key_id = os.getenv('AWS_ACCESS_KEY_ID')\n",
    "secret_access_key = os.getenv('AWS_SECRET_ACCESS_KEY')\n",
    "region = os.getenv('AWS_DEFAULT_REGION')"
   ]
  },
  {
   "cell_type": "markdown",
   "metadata": {},
   "source": [
    "# 2. Preparación de Entorno"
   ]
  },
  {
   "cell_type": "code",
   "execution_count": 3,
   "metadata": {},
   "outputs": [],
   "source": [
    "#IMPORTANTE, REEMPLAZAMOS \"XXX\" POR NUESTRAS INICIALES\n",
    "bucket = \"datasetsbdajac\"\n",
    "\n",
    "#Librería para manipulación de servicios en AWS\n",
    "#!pip install boto3\n",
    "\n",
    "#Identificador de la clave\n",
    "accessKeyId = access_key_id\n",
    "\n",
    "#Contraseña de la clave\n",
    "secretAccessKey = secret_access_key\n",
    "\n",
    "#Región de la clave\n",
    "region = region\n",
    "\n",
    "#Utilitario para manipular los servicios de AWS\n",
    "import boto3"
   ]
  },
  {
   "cell_type": "markdown",
   "metadata": {},
   "source": [
    "# 3. Conexion Al Servicio"
   ]
  },
  {
   "cell_type": "code",
   "execution_count": 6,
   "metadata": {},
   "outputs": [],
   "source": [
    "#Obtenemos el cliente de servicio\n",
    "rekognition = boto3.client(\n",
    "  \"rekognition\", #Servicio al que nos conectamos\n",
    "  aws_access_key_id = accessKeyId, #Identificador de la clave\n",
    "  aws_secret_access_key = secretAccessKey, #Contraseña de la clave\n",
    "  region_name = region #Región de la clave\n",
    ")"
   ]
  },
  {
   "cell_type": "code",
   "execution_count": 7,
   "metadata": {},
   "outputs": [],
   "source": [
    "#Enviamos la consulta\n",
    "respuesta = rekognition.detect_text(\n",
    "    Image = { #Indicamos la imagen\n",
    "        \"S3Object\": { #Físicamente, la imagen se encuentra en S3\n",
    "            \"Bucket\": bucket, #Bucket de la imagen, CAMBIAR \"XXX\" por nuestras iniciales\n",
    "            \"Name\": \"imagenes/IMAGEN_1.jpg\" #Ruta de la imagen\n",
    "        }\n",
    "    }\n",
    ")"
   ]
  },
  {
   "cell_type": "markdown",
   "metadata": {},
   "source": [
    "# 4. Extracción del texto de la imagen"
   ]
  },
  {
   "cell_type": "code",
   "execution_count": 8,
   "metadata": {},
   "outputs": [
    {
     "data": {
      "text/plain": [
       "{'DetectedText': 'La confluencia entre la novela y la filosofía española de principios del',\n",
       " 'Type': 'LINE',\n",
       " 'Id': 0,\n",
       " 'Confidence': 99.27867126464844,\n",
       " 'Geometry': {'BoundingBox': {'Width': 0.7607085704803467,\n",
       "   'Height': 0.020922275260090828,\n",
       "   'Left': 0.12510934472084045,\n",
       "   'Top': 0.06939463317394257},\n",
       "  'Polygon': [{'X': 0.1252041906118393, 'Y': 0.06939463317394257},\n",
       "   {'X': 0.8858179450035095, 'Y': 0.07129879295825958},\n",
       "   {'X': 0.8857230544090271, 'Y': 0.09031690657138824},\n",
       "   {'X': 0.12510934472084045, 'Y': 0.08841274678707123}]}}"
      ]
     },
     "execution_count": 8,
     "metadata": {},
     "output_type": "execute_result"
    }
   ],
   "source": [
    "#Extracción de la primera línea\n",
    "respuesta[\"TextDetections\"][0]"
   ]
  },
  {
   "cell_type": "code",
   "execution_count": 9,
   "metadata": {},
   "outputs": [
    {
     "data": {
      "text/plain": [
       "'La confluencia entre la novela y la filosofía española de principios del'"
      ]
     },
     "execution_count": 9,
     "metadata": {},
     "output_type": "execute_result"
    }
   ],
   "source": [
    "#Extracción del texto de la primera linea\n",
    "respuesta[\"TextDetections\"][0][\"DetectedText\"]"
   ]
  },
  {
   "cell_type": "code",
   "execution_count": 10,
   "metadata": {},
   "outputs": [
    {
     "data": {
      "text/plain": [
       "'siglo XX es el hilo conductor de este trabajo, que nace del interés por'"
      ]
     },
     "execution_count": 10,
     "metadata": {},
     "output_type": "execute_result"
    }
   ],
   "source": [
    "#Extracción de la segunda línea\n",
    "respuesta[\"TextDetections\"][1][\"DetectedText\"]"
   ]
  },
  {
   "cell_type": "code",
   "execution_count": 11,
   "metadata": {},
   "outputs": [],
   "source": [
    "#Variable que acumulará el texto de la imagen\n",
    "contenido = \"\""
   ]
  },
  {
   "cell_type": "code",
   "execution_count": 12,
   "metadata": {},
   "outputs": [],
   "source": [
    "#Iteramos cada línea\n",
    "for linea in respuesta[\"TextDetections\"]:\n",
    "    #Agregamos cada línea al contenido\n",
    "    contenido = contenido + linea[\"DetectedText\"] + \"\\n\""
   ]
  },
  {
   "cell_type": "code",
   "execution_count": 13,
   "metadata": {},
   "outputs": [
    {
     "name": "stdout",
     "output_type": "stream",
     "text": [
      "La confluencia entre la novela y la filosofía española de principios del\n",
      "siglo XX es el hilo conductor de este trabajo, que nace del interés por\n",
      "mostrar una relectura, en clave hermenéutica, del vigor filosófico pre-\n",
      "sente en la novelística del momento. Dicho período se inaugura con el\n",
      "desastre de la Guerra de Cuba, conflicto que propiciará la emergencia\n",
      "de un grupo de intelectuales imprescindibles en el desarrollo del pen-\n",
      "samiento español: la generación del 98. Pero el marco contextual per-\n",
      "tenece a un radio de acción mucho más amplio que tiene que ver con\n",
      "los movimientos políticos, culturales y\n",
      "La\n",
      "confluencia\n",
      "entre\n",
      "la\n",
      "novela\n",
      "y\n",
      "la\n",
      "filosofía\n",
      "española\n",
      "de\n",
      "principios\n",
      "del\n",
      "siglo\n",
      "XX\n",
      "es\n",
      "el\n",
      "hilo\n",
      "conductor\n",
      "de\n",
      "este\n",
      "trabajo,\n",
      "que\n",
      "nace\n",
      "del\n",
      "interés\n",
      "por\n",
      "mostrar\n",
      "una\n",
      "relectura,\n",
      "en\n",
      "clave\n",
      "hermenéutica,\n",
      "del\n",
      "vigor\n",
      "filosófico\n",
      "pre-\n",
      "sente\n",
      "en\n",
      "la\n",
      "novelística\n",
      "del\n",
      "momento.\n",
      "Dicho\n",
      "período\n",
      "se\n",
      "inaugura\n",
      "con\n",
      "el\n",
      "desastre\n",
      "de\n",
      "la\n",
      "Guerra\n",
      "de\n",
      "Cuba,\n",
      "conflicto\n",
      "que\n",
      "propiciará\n",
      "la\n",
      "emergencia\n",
      "de\n",
      "un\n",
      "grupo\n",
      "de\n",
      "intelectuales\n",
      "imprescindibles\n",
      "en\n",
      "el\n",
      "desarrollo\n",
      "del\n",
      "pen-\n",
      "samiento\n",
      "español:\n",
      "la\n",
      "generación\n",
      "del\n",
      "98.\n",
      "Pero\n",
      "el\n",
      "marco\n",
      "contextual\n",
      "per-\n",
      "tenece\n",
      "a\n",
      "un\n",
      "radio\n",
      "de\n",
      "acción\n",
      "mucho\n",
      "más\n",
      "amplio\n",
      "que\n",
      "tiene\n",
      "que\n",
      "ver\n",
      "con\n",
      "los\n",
      "movimientos\n",
      "políticos,\n",
      "culturales\n",
      "y\n",
      "\n"
     ]
    }
   ],
   "source": [
    "#Verificamos\n",
    "#Notamos que se muestran lineas y palabras\n",
    "print(contenido)"
   ]
  },
  {
   "cell_type": "code",
   "execution_count": 14,
   "metadata": {},
   "outputs": [
    {
     "data": {
      "text/plain": [
       "'LINE'"
      ]
     },
     "execution_count": 14,
     "metadata": {},
     "output_type": "execute_result"
    }
   ],
   "source": [
    "#En la variabl \"Type\" de cada respuesta podemos ver si es un LINE o WORD\n",
    "respuesta[\"TextDetections\"][0][\"Type\"]"
   ]
  },
  {
   "cell_type": "code",
   "execution_count": 15,
   "metadata": {},
   "outputs": [
    {
     "name": "stdout",
     "output_type": "stream",
     "text": [
      "La confluencia entre la novela y la filosofía española de principios del\n",
      "siglo XX es el hilo conductor de este trabajo, que nace del interés por\n",
      "mostrar una relectura, en clave hermenéutica, del vigor filosófico pre-\n",
      "sente en la novelística del momento. Dicho período se inaugura con el\n",
      "desastre de la Guerra de Cuba, conflicto que propiciará la emergencia\n",
      "de un grupo de intelectuales imprescindibles en el desarrollo del pen-\n",
      "samiento español: la generación del 98. Pero el marco contextual per-\n",
      "tenece a un radio de acción mucho más amplio que tiene que ver con\n",
      "los movimientos políticos, culturales y\n"
     ]
    }
   ],
   "source": [
    "#Sólo nos interesan las \"LINE\"\n",
    "for linea in respuesta[\"TextDetections\"]:\n",
    "\n",
    "  #Filtramos sólo las LINE\n",
    "  if linea[\"Type\"] == \"LINE\":\n",
    "    print(linea[\"DetectedText\"])"
   ]
  }
 ],
 "metadata": {
  "kernelspec": {
   "display_name": "base",
   "language": "python",
   "name": "python3"
  },
  "language_info": {
   "codemirror_mode": {
    "name": "ipython",
    "version": 3
   },
   "file_extension": ".py",
   "mimetype": "text/x-python",
   "name": "python",
   "nbconvert_exporter": "python",
   "pygments_lexer": "ipython3",
   "version": "3.12.4"
  }
 },
 "nbformat": 4,
 "nbformat_minor": 2
}
